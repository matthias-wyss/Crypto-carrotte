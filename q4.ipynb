{
 "cells": [
  {
   "cell_type": "markdown",
   "id": "0f18ce2a",
   "metadata": {},
   "source": [
    "Question 4 : Analyze venue switchig between exchanges"
   ]
  },
  {
   "cell_type": "code",
   "execution_count": null,
   "id": "fa81cf1c",
   "metadata": {},
   "outputs": [],
   "source": [
    "from src.data.get_full_data_coinglass import analyze_multi_exchange_carry_trade, load_data_for_exchange_pair,display_statistics_table, process_data_files,  compute_funding_performance_multi_exchange, CoinGlassAPI, calculate_performance_metrics,plot_carry_trade_performance,  merge_and_compute_carry_trade, calculate_period_statistics\n",
    "import matplotlib.pyplot as plt\n",
    "import pandas as pd\n",
    "\n",
    "\n",
    "\n",
    "\n",
    "# Example usage\n",
    "spot_file_path = 'data/concat/spots_data_2023-12-10_to_2024-03-10.csv'\n",
    "futures_file_path = 'data/concat/futures_data_2023-12-10_to_2024-03-10.csv'\n",
    "\n",
    "separated_data = process_data_files(spot_file_path, futures_file_path)\n",
    "\n",
    "# Now you can use the separated data for your delta neutral strategy\n",
    "# For BTC:\n",
    "btc_spot_df = separated_data['btc_spot']\n",
    "btc_futures_df = separated_data['btc_futures']\n",
    "btc_results_df = merge_and_compute_carry_trade(btc_spot_df, btc_futures_df, merge_on='timestamp')\n",
    "btc_stats = calculate_period_statistics(btc_results_df)\n",
    "\n",
    "# For ETH:\n",
    "eth_spot_df = separated_data['eth_spot']\n",
    "eth_futures_df = separated_data['eth_futures']\n",
    "eth_results_df = merge_and_compute_carry_trade(eth_spot_df, eth_futures_df, merge_on='timestamp')\n",
    "eth_stats = calculate_period_statistics(eth_results_df)\n",
    "\n",
    "\n",
    "# For BTC analysis\n",
    "btc_venue_result = analyze_multi_exchange_carry_trade(\n",
    "    spot_df=btc_spot_df,\n",
    "    futures_df=btc_futures_df,\n",
    "    maker_fee=0.0001,  # 0.02%\n",
    "    taker_fee=0.0001   # 0.05%\n",
    ")\n",
    "\n",
    "# For ETH analysis\n",
    "eth_venue_result = analyze_multi_exchange_carry_trade(\n",
    "    spot_df=eth_spot_df,\n",
    "    futures_df=eth_futures_df,\n",
    "    maker_fee=0.0001,  # 0.02%\n",
    "    taker_fee=0.0001   # 0.05%\n",
    ")\n"
   ]
  }
 ],
 "metadata": {
  "language_info": {
   "name": "python"
  }
 },
 "nbformat": 4,
 "nbformat_minor": 5
}
