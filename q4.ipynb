{
 "cells": [
  {
   "cell_type": "code",
   "execution_count": 1,
   "id": "5f64616f",
   "metadata": {},
   "outputs": [],
   "source": [
    "from src.data.get_data_coinglass import load_data, compute_funding_performance, CoinGlassAPI\n",
    "\n",
    "\n",
    "\n",
    "\n",
    "# Example usage\n",
    "api_key = \"5a7e3eb1256241899a54cd41cfd38825\"\n",
    "start_date = \"2023-01-01\"\n",
    "end_date = \"2024-12-31\"\n",
    "limit = 1000\n",
    "interval = \"4h\"\n",
    "\n"
   ]
  },
  {
   "cell_type": "code",
   "execution_count": null,
   "id": "3a3bc56f",
   "metadata": {},
   "outputs": [],
   "source": [
    "\n",
    "# Load BTC data (Here from Binance)\n",
    "\n",
    "\n",
    "btc_data = load_data(api_key, \"BTCUSDT\",start_date,end_date,\"Binance\",interval,limit, True)\n",
    "\n",
    "\n",
    "\n",
    "\n",
    "\n",
    "print(btc_data)\n",
    "\n",
    "# Load ETH data\n",
    "\n",
    "eth_data = load_data(api_key ,\"ETHUSDT\", start_date,end_date, \"Binance\", interval, limit, True)\n",
    "\n",
    "\n",
    "\n",
    "print(eth_data)\n"
   ]
  },
  {
   "cell_type": "code",
   "execution_count": null,
   "id": "dff0612a",
   "metadata": {},
   "outputs": [
    {
     "name": "stdout",
     "output_type": "stream",
     "text": [
      "     exchange baseAsset spotInstrumentId futuresInstrumentId\n",
      "0     Binance       BTC          BTCUSDT         BTCUSD_PERP\n",
      "1     Binance       BTC          BTCUSDT       BTCUSD_250627\n",
      "2     Binance       BTC          BTCUSDT       BTCUSD_250926\n",
      "3     Binance       BTC          BTCUSDT             BTCUSDT\n",
      "4     Binance       BTC          BTCUSDT             BTCUSDC\n",
      "..        ...       ...              ...                 ...\n",
      "178       OKX       ETH         ETH-USDT     ETH-USDT-250627\n",
      "179       OKX       ETH         ETH-USDT     ETH-USDT-250926\n",
      "180       OKX       ETH         ETH-USDT     ETH-USDC-250627\n",
      "181  WhiteBIT       BTC              NaN            BTC_PERP\n",
      "182  WhiteBIT       ETH              NaN            ETH_PERP\n",
      "\n",
      "[183 rows x 4 columns]\n"
     ]
    }
   ],
   "source": [
    "import pandas as pd\n",
    "\n",
    "exchanges = ['Binance', 'Bybit', 'OKX']\n",
    "include_list =  ['BTC', 'ETH']\n",
    "exclude_list = ['XBT/USD', 'XBT/USD', 'BTC-USD', 'ETH-USD', 'BTC_USD', 'ETH_USD', 'ETH/USD'] #exclude weorg instrument, keep USDT feeds, why kraken uses XBT for BTC ticker i dunno but fuck them\n",
    "ticker_map_spot = CoinGlassAPI(api_key).get_supported_tickers(include_list, exclude_list) #get tickers for spot\n",
    "ticker_map_futures = CoinGlassAPI(api_key).get_supported_tickers(\n",
    "    include_list, exclude_list, futures=True\n",
    ") #get tickers for futures\n",
    "\n",
    "df_ticker_spot = ticker_map_spot.rename(columns={'instrumentId': 'spotInstrumentId'})\n",
    "df_ticker_futures = ticker_map_futures.rename(columns={'instrumentId': 'futuresInstrumentId'})\n",
    "\n",
    "merged_ticker_df = pd.merge(df_ticker_spot, df_ticker_futures, on=['exchange', 'baseAsset'], how='outer')\n",
    "\n",
    "# WIP, keep only perps tickers, remove futures tickers\n",
    "print(merged_ticker_df)\n",
    "# for _, row in ticker_map.iterrows():\n",
    "#     exchange = row['exchange']\n",
    "#     ticker = row['instrumentId']\n",
    "    \n",
    "#     print(f\"Ticker for {exchange}: {ticker}\")\n",
    "    \n",
    "#     if ticker:\n",
    "#         df = compute_funding_performance(\n",
    "#             api_key=api_key,\n",
    "#             symbol=ticker,\n",
    "#             start_str=start_date,\n",
    "#             end_str=end_date,\n",
    "#             interval=interval,\n",
    "#             limit=1000,\n",
    "#             exchanges=[exchange],\n",
    "#             position_size=1\n",
    "#         )\n",
    "#         print(df.head())\n",
    "\n",
    "\n",
    "\n"
   ]
  }
 ],
 "metadata": {
  "kernelspec": {
   "display_name": "MLFIN",
   "language": "python",
   "name": "python3"
  },
  "language_info": {
   "codemirror_mode": {
    "name": "ipython",
    "version": 3
   },
   "file_extension": ".py",
   "mimetype": "text/x-python",
   "name": "python",
   "nbconvert_exporter": "python",
   "pygments_lexer": "ipython3",
   "version": "3.11.11"
  }
 },
 "nbformat": 4,
 "nbformat_minor": 5
}
